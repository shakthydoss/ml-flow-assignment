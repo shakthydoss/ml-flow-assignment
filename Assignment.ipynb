{
 "cells": [
  {
   "cell_type": "markdown",
   "metadata": {},
   "source": [
    "##### ML FLOW ASSIGNMENT"
   ]
  },
  {
   "cell_type": "code",
   "execution_count": 132,
   "metadata": {},
   "outputs": [],
   "source": [
    "from sklearn import datasets \n",
    "from sklearn import svm\n",
    "from sklearn.neighbors import KNeighborsClassifier\n",
    "\n",
    "from sklearn.model_selection import GridSearchCV\n",
    "from sklearn.model_selection import train_test_split\n",
    "from sklearn.metrics import accuracy_score\n",
    "\n",
    "import mlflow\n",
    "import mlflow.sklearn\n"
   ]
  },
  {
   "cell_type": "code",
   "execution_count": 131,
   "metadata": {},
   "outputs": [],
   "source": [
    "iris = datasets.load_iris()\n",
    "X, y = iris.data, iris.target\n",
    "x_train, x_test, y_train, y_test = train_test_split(X,y)"
   ]
  },
  {
   "cell_type": "markdown",
   "metadata": {},
   "source": [
    "## MLFlow \n",
    "- Log param \n",
    "- Log metric \n",
    "- Serialize trained object for MLflow Models  "
   ]
  },
  {
   "cell_type": "markdown",
   "metadata": {},
   "source": [
    "### Model 1 - Training SVM with different param"
   ]
  },
  {
   "cell_type": "code",
   "execution_count": 103,
   "metadata": {},
   "outputs": [],
   "source": [
    "clf = svm.SVC()\n",
    "param_grid = {\n",
    "    'kernel': ['linear', 'rbf'], \n",
    "    'gamma' : [0.08, 0.05]\n",
    "}\n",
    "grid = GridSearchCV(clf, param_grid=param_grid,cv=3)\n",
    "grid.fit(x_train,y_train)"
   ]
  },
  {
   "cell_type": "code",
   "execution_count": 106,
   "metadata": {},
   "outputs": [
    {
     "name": "stdout",
     "output_type": "stream",
     "text": [
      "('kernel', 'linear')\n",
      "('gamma', 0.08)\n",
      "1.0\n",
      "('kernel', 'rbf')\n",
      "('gamma', 0.08)\n",
      "0.9732100521574206\n",
      "('kernel', 'linear')\n",
      "('gamma', 0.05)\n",
      "1.0\n",
      "('kernel', 'rbf')\n",
      "('gamma', 0.05)\n",
      "0.9732100521574206\n"
     ]
    }
   ],
   "source": [
    "with mlflow.start_run():\n",
    "    size = len(grid.cv_results_['params'])\n",
    "    for i in range(0, size):\n",
    "        print('kernel', grid.cv_results_['params'][i]['kernel'])\n",
    "        print('gamma', grid.cv_results_['params'][i]['gamma'])\n",
    "        mlflow.log_param('kernel', grid.cv_results_['params'][i]['kernel'])\n",
    "        mlflow.log_param('gamma', grid.cv_results_['params'][i]['gamma'])\n",
    "        print grid.cv_results_['mean_train_score'][i]\n",
    "        mlflow.log_metric('accuracy', grid.cv_results_['mean_train_score'][i])\n",
    "    clf = grid.best_estimator_\n",
    "    mlflow.sklearn.log_model(clf, \"SVM_model_1\")\n",
    "    y_predited = clf.predict(x_test)\n",
    "    accuracy_score(y_test, y_predited)\n",
    "    "
   ]
  },
  {
   "cell_type": "markdown",
   "metadata": {},
   "source": [
    "### Model 2 - Training KNN with different param"
   ]
  },
  {
   "cell_type": "code",
   "execution_count": 133,
   "metadata": {},
   "outputs": [
    {
     "data": {
      "text/plain": [
       "GridSearchCV(cv=3, error_score='raise',\n",
       "       estimator=KNeighborsClassifier(algorithm='auto', leaf_size=30, metric='minkowski',\n",
       "           metric_params=None, n_jobs=1, n_neighbors=5, p=2,\n",
       "           weights='uniform'),\n",
       "       fit_params=None, iid=True, n_jobs=1,\n",
       "       param_grid={'n_neighbors': [5, 10, 15], 'weights': ['uniform', 'distance']},\n",
       "       pre_dispatch='2*n_jobs', refit=True, return_train_score='warn',\n",
       "       scoring=None, verbose=0)"
      ]
     },
     "execution_count": 133,
     "metadata": {},
     "output_type": "execute_result"
    }
   ],
   "source": [
    "knn_clf = KNeighborsClassifier()\n",
    "param_grid = {\n",
    "    'n_neighbors': [5, 10, 15], \n",
    "    'weights' : ['uniform', 'distance']\n",
    "}\n",
    "grid = GridSearchCV(knn_clf, param_grid=param_grid,cv=3)\n",
    "grid.fit(x_train, y_train)"
   ]
  },
  {
   "cell_type": "code",
   "execution_count": 119,
   "metadata": {},
   "outputs": [
    {
     "name": "stdout",
     "output_type": "stream",
     "text": [
      "('n_neighbors', 5)\n",
      "('weights', 'uniform')\n",
      "0.9777145566619252\n",
      "('n_neighbors', 5)\n",
      "('weights', 'distance')\n",
      "1.0\n",
      "('n_neighbors', 10)\n",
      "('weights', 'uniform')\n",
      "0.9777145566619252\n",
      "('n_neighbors', 10)\n",
      "('weights', 'distance')\n",
      "1.0\n",
      "('n_neighbors', 15)\n",
      "('weights', 'uniform')\n",
      "0.96882408724514\n",
      "('n_neighbors', 15)\n",
      "('weights', 'distance')\n",
      "1.0\n"
     ]
    }
   ],
   "source": [
    "with mlflow.start_run():\n",
    "    size = len(grid.cv_results_['params'])\n",
    "    for i in range(0, size):\n",
    "        print('n_neighbors', grid.cv_results_['params'][i]['n_neighbors'])\n",
    "        print('weights', grid.cv_results_['params'][i]['weights'])\n",
    "        mlflow.log_param('n_neighbors', grid.cv_results_['params'][i]['n_neighbors'])\n",
    "        mlflow.log_param('weights', grid.cv_results_['params'][i]['weights'])\n",
    "        print grid.cv_results_['mean_train_score'][i]\n",
    "        mlflow.log_metric('accuracy', grid.cv_results_['mean_train_score'][i])\n",
    "    clf = grid.best_estimator_\n",
    "    mlflow.sklearn.log_model(clf, \"knn_model_1\")\n",
    "    y_predited = clf.predict(x_test)\n",
    "    accuracy_score(y_test, y_predited)"
   ]
  },
  {
   "cell_type": "markdown",
   "metadata": {},
   "source": [
    "# Model deployment / Servering \n",
    "### Run/ Start serialized MLmodels \n",
    "- Example :  mlflow sklearn serve /Users/mlruns/0/8fb04113eddb44488c2ce9c35beaf0ee/artifacts/SVM_model_1/ -p 1234\n",
    "- Example :  mlflow sklearn serve /Users/mlruns/0/8fb04113eddb44488c2ce9c35beaf0ee/artifacts/KKN_model_1/ -p 1235\n",
    "\n"
   ]
  },
  {
   "cell_type": "markdown",
   "metadata": {},
   "source": [
    "## Access models running in remote  server: \n",
    "-  SVM running in port 1234 \n",
    "-  KNN running in port 1235 "
   ]
  },
  {
   "cell_type": "code",
   "execution_count": 126,
   "metadata": {},
   "outputs": [],
   "source": [
    "import requests\n",
    "test_data = [[7.1, 3. , 5.9, 2.1], [4.6, 3.1, 1.5, 0.2],[6.4, 2.9, 4.3, 1.3]]"
   ]
  },
  {
   "cell_type": "code",
   "execution_count": 138,
   "metadata": {},
   "outputs": [
    {
     "name": "stdout",
     "output_type": "stream",
     "text": [
      "{u'predictions': [2, 0, 1]}\n"
     ]
    }
   ],
   "source": [
    "# model 1\n",
    "# SVM model  \n",
    "r = requests.post('http://127.0.0.1:1234/invocations', json=test_data)\n",
    "print r.json()"
   ]
  },
  {
   "cell_type": "code",
   "execution_count": 128,
   "metadata": {},
   "outputs": [
    {
     "name": "stdout",
     "output_type": "stream",
     "text": [
      "{u'predictions': [2, 0, 1]}\n"
     ]
    }
   ],
   "source": [
    "# model 2\n",
    "# KKN model \n",
    "r = requests.post('http://127.0.0.1:1235/invocations', json=test_data)\n",
    "print r.json()"
   ]
  },
  {
   "cell_type": "markdown",
   "metadata": {},
   "source": [
    "### TensorFlow"
   ]
  },
  {
   "cell_type": "code",
   "execution_count": 135,
   "metadata": {},
   "outputs": [
    {
     "name": "stdout",
     "output_type": "stream",
     "text": [
      "Hello, TensorFlow!\n"
     ]
    }
   ],
   "source": [
    "import tensorflow as tf\n",
    "\n",
    "hello = tf.constant('Hello, TensorFlow!')\n",
    "sess = tf.Session()\n",
    "print(sess.run(hello))"
   ]
  }
 ],
 "metadata": {
  "kernelspec": {
   "display_name": "Python 2",
   "language": "python",
   "name": "python2"
  },
  "language_info": {
   "codemirror_mode": {
    "name": "ipython",
    "version": 2
   },
   "file_extension": ".py",
   "mimetype": "text/x-python",
   "name": "python",
   "nbconvert_exporter": "python",
   "pygments_lexer": "ipython2",
   "version": "2.7.10"
  }
 },
 "nbformat": 4,
 "nbformat_minor": 2
}
